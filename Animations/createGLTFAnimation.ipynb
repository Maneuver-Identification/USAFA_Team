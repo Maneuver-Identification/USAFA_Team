{
 "cells": [
  {
   "cell_type": "markdown",
   "id": "3a0cbad4",
   "metadata": {},
   "source": [
    "## Animations from TSV Files\n",
    "\n",
    "This code uses Blender Python to generate animations for each of the tsv files in a given directory. This file is called in the shell script, generateAllAnimations.sh, which just requires the directory containing all the tsv files as input (set up for obtaining command line arguments)."
   ]
  },
  {
   "cell_type": "code",
   "execution_count": null,
   "id": "143b2ffd",
   "metadata": {},
   "outputs": [],
   "source": [
    "import bpy,sys\n",
    "from pathlib import Path\n",
    "from math import radians\n",
    "\n",
    "#obtains command line arguments\n",
    "for i in range(len(sys.argv)):\n",
    "    arg = sys.argv[i]\n",
    "    if arg == \"--\":\n",
    "        args = sys.argv[i+1:]\n",
    "\n",
    "#clears plane animation\n",
    "plane = bpy.data.objects[\"Plane\"]\n",
    "plane.animation_data_clear()\n",
    "\n",
    "#Open Flight Path\n",
    "tsv  = open(args[0], \"r\")\n",
    "\n",
    "#Reads first line of file\n",
    "A = tsv.readline()\n",
    "B = [float(x) for x in A.split('\\t') if x.strip()]\n",
    "\n",
    "#tracks the frame and time segments added\n",
    "frame_num = 1\n",
    "prev_time = 0\n",
    "\n",
    "#sets the inital location of the plane and camera, and sets a keyframe for both\n",
    "plane.location = (0,0,0)\n",
    "plane.rotation_euler = (radians(B[10] + 90), radians(-B[9]), radians(-B[8] + 90))\n",
    "plane.location  = (B[2], B[3], B[4])\n",
    "plane.keyframe_insert(data_path = \"location\", frame = frame_num)\n",
    "plane.keyframe_insert(data_path = \"rotation_euler\", frame = frame_num)\n",
    "\n",
    "for line in tsv:\n",
    "    B = [float(x) for x in line.split('\\t') if x.strip()]\n",
    "    if not int(B[1]) == prev_time:\n",
    "        #Update time\n",
    "        frame_num = int(B[1]) * 24\n",
    "        prev_time = int(B[1])\n",
    "        \n",
    "        #Move to origin, apply rotation, and move to desired point\n",
    "        plane.location = (0,0,0)\n",
    "        plane.rotation_euler = (radians((B[10] + 90)), radians((-B[9])), radians((-B[8] + 90)))\n",
    "        plane.location  = (B[2], B[3], B[4])\n",
    "        plane.keyframe_insert(data_path = \"location\", frame = frame_num)\n",
    "        plane.keyframe_insert(data_path = \"rotation_euler\", frame = frame_num)\n",
    "        \n",
    "tsv.close()\n",
    "\n",
    "#Export File\n",
    "exportDir = args[1] + \"/\" + args[0].split(\"/\")[-1].split(\".\")[0] + \".glb\"\n",
    "bpy.ops.export_scene.gltf(filepath=exportDir, check_existing=False, export_format='GLB', export_image_format= \"JPEG\", filter_glob='*.glb;*.gltf')"
   ]
  }
 ],
 "metadata": {
  "kernelspec": {
   "display_name": "Python [conda env:R]",
   "language": "python",
   "name": "conda-env-R-py"
  },
  "language_info": {
   "codemirror_mode": {
    "name": "ipython",
    "version": 3
   },
   "file_extension": ".py",
   "mimetype": "text/x-python",
   "name": "python",
   "nbconvert_exporter": "python",
   "pygments_lexer": "ipython3",
   "version": "3.8.13"
  },
  "latex_envs": {
   "LaTeX_envs_menu_present": true,
   "autoclose": false,
   "autocomplete": true,
   "bibliofile": "biblio.bib",
   "cite_by": "apalike",
   "current_citInitial": 1,
   "eqLabelWithNumbers": true,
   "eqNumInitial": 1,
   "hotkeys": {
    "equation": "Ctrl-E",
    "itemize": "Ctrl-I"
   },
   "labels_anchors": false,
   "latex_user_defs": false,
   "report_style_numbering": false,
   "user_envs_cfg": false
  },
  "toc": {
   "base_numbering": 1,
   "nav_menu": {},
   "number_sections": true,
   "sideBar": true,
   "skip_h1_title": false,
   "title_cell": "Table of Contents",
   "title_sidebar": "Contents",
   "toc_cell": false,
   "toc_position": {},
   "toc_section_display": true,
   "toc_window_display": false
  }
 },
 "nbformat": 4,
 "nbformat_minor": 5
}
