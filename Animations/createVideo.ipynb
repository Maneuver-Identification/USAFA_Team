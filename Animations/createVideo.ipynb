{
 "cells": [
  {
   "cell_type": "markdown",
   "id": "c9f5fffa",
   "metadata": {},
   "source": [
    "## Videos \n",
    "\n",
    "This code uses Blender Python to generate videos for each of the tsv files in a given directory. This file is called in the shell script, generateAllVideos.sh, which just requires the directory containing all the tsv files as input (set up for obtaining command line arguments). The code generates isolated camera (ISO_CAM), rear camera (REAR_CAM), anside camera (SIDE_CAM)"
   ]
  },
  {
   "cell_type": "code",
   "execution_count": 1,
   "id": "f1938b1c",
   "metadata": {},
   "outputs": [
    {
     "ename": "ModuleNotFoundError",
     "evalue": "No module named 'bpy'",
     "output_type": "error",
     "traceback": [
      "\u001b[0;31m---------------------------------------------------------------------------\u001b[0m",
      "\u001b[0;31mModuleNotFoundError\u001b[0m                       Traceback (most recent call last)",
      "Input \u001b[0;32mIn [1]\u001b[0m, in \u001b[0;36m<cell line: 1>\u001b[0;34m()\u001b[0m\n\u001b[0;32m----> 1\u001b[0m \u001b[38;5;28;01mimport\u001b[39;00m \u001b[38;5;21;01mbpy\u001b[39;00m\u001b[38;5;241m,\u001b[39m\u001b[38;5;21;01msys\u001b[39;00m\n\u001b[1;32m      2\u001b[0m \u001b[38;5;28;01mfrom\u001b[39;00m \u001b[38;5;21;01mpathlib\u001b[39;00m \u001b[38;5;28;01mimport\u001b[39;00m Path\n\u001b[1;32m      3\u001b[0m \u001b[38;5;28;01mfrom\u001b[39;00m \u001b[38;5;21;01mmath\u001b[39;00m \u001b[38;5;28;01mimport\u001b[39;00m radians\n",
      "\u001b[0;31mModuleNotFoundError\u001b[0m: No module named 'bpy'"
     ]
    }
   ],
   "source": [
    "import bpy,sys\n",
    "from pathlib import Path\n",
    "from math import radians\n",
    "\n",
    "#obtains command line arguments\n",
    "for i in range(len(sys.argv)):\n",
    "    arg = sys.argv[i]\n",
    "    if arg == \"--\":\n",
    "        args = sys.argv[i+1:]\n",
    "\n",
    "#clears plane animation\n",
    "plane = bpy.data.objects[\"Plane\"]\n",
    "plane.animation_data_clear()\n",
    "\n",
    "#Open Flight Path\n",
    "tsv  = open(args[0], \"r\")\n",
    "tsv  = open(args[0], \"r\")\n",
    "\n",
    "#Reads first line of file\n",
    "A = tsv.readline()\n",
    "B = [float(x) for x in A.split('\\t') if x.strip()]\n",
    "\n",
    "#tracks the frame and time segments added\n",
    "frame_num = 1\n",
    "prev_time = 0\n",
    "\n",
    "#sets the inital location of the plane and camera, and sets a keyframe for both\n",
    "plane.location = (0,0,0)\n",
    "plane.rotation_euler = (radians(B[10]+90), radians(-B[9]), radians(-B[8] + 90))\n",
    "plane.location  = (B[2], B[3], B[4])\n",
    "plane.keyframe_insert(data_path = \"location\", frame = frame_num)\n",
    "plane.keyframe_insert(data_path = \"rotation_euler\", frame = frame_num)\n",
    "\n",
    "for line in tsv:\n",
    "    B = [float(x) for x in line.split('\\t') if x.strip()]\n",
    "    if not int(B[1]) == prev_time:\n",
    "        #Update time\n",
    "        frame_num = int(B[1]) * 24\n",
    "        prev_time = int(B[1])\n",
    "        \n",
    "        #Move to origin, apply rotation, and move to desired point\n",
    "        plane.location = (0,0,0)\n",
    "        plane.rotation_euler = (radians((B[10] + 90)), radians((-B[9])), radians((-B[8] + 90)))\n",
    "        plane.location  = (B[2], B[3], B[4])\n",
    "        plane.keyframe_insert(data_path = \"location\", frame = frame_num)\n",
    "        plane.keyframe_insert(data_path = \"rotation_euler\", frame = frame_num)\n",
    "        \n",
    "tsv.close()\n",
    "\n",
    "#set camera\n",
    "bpy.data.scenes[\"Scene\"].camera = bpy.data.objects[args[2]]\n",
    "bpy.data.scenes[\"Scene\"].render.filepath = args[1] + args[0].split(\"/\")[-1].split(\".\")[0] +args[2] + \".avi\"\n",
    "\n",
    "\n",
    "for area in bpy.context.screen.areas: \n",
    "    if area.type == 'VIEW_3D':\n",
    "        for space in area.spaces: \n",
    "            if space.type == 'VIEW_3D':\n",
    "                space.shading.type = 'RENDERED'\n",
    "bpy.ops.render.opengl(animation=True)\n",
    "bpy.ops.wm.quit_blender()"
   ]
  },
  {
   "cell_type": "code",
   "execution_count": null,
   "id": "aba4eb01",
   "metadata": {},
   "outputs": [],
   "source": []
  }
 ],
 "metadata": {
  "kernelspec": {
   "display_name": "Python [conda env:R]",
   "language": "python",
   "name": "conda-env-R-py"
  },
  "language_info": {
   "codemirror_mode": {
    "name": "ipython",
    "version": 3
   },
   "file_extension": ".py",
   "mimetype": "text/x-python",
   "name": "python",
   "nbconvert_exporter": "python",
   "pygments_lexer": "ipython3",
   "version": "3.8.13"
  },
  "latex_envs": {
   "LaTeX_envs_menu_present": true,
   "autoclose": false,
   "autocomplete": true,
   "bibliofile": "biblio.bib",
   "cite_by": "apalike",
   "current_citInitial": 1,
   "eqLabelWithNumbers": true,
   "eqNumInitial": 1,
   "hotkeys": {
    "equation": "Ctrl-E",
    "itemize": "Ctrl-I"
   },
   "labels_anchors": false,
   "latex_user_defs": false,
   "report_style_numbering": false,
   "user_envs_cfg": false
  },
  "toc": {
   "base_numbering": 1,
   "nav_menu": {},
   "number_sections": true,
   "sideBar": true,
   "skip_h1_title": false,
   "title_cell": "Table of Contents",
   "title_sidebar": "Contents",
   "toc_cell": false,
   "toc_position": {},
   "toc_section_display": true,
   "toc_window_display": false
  }
 },
 "nbformat": 4,
 "nbformat_minor": 5
}
