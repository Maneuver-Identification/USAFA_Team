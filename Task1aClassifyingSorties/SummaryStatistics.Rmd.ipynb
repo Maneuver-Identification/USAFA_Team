{
 "cells": [
  {
   "cell_type": "markdown",
   "id": "5e9910ca",
   "metadata": {
    "heading_collapsed": true
   },
   "source": [
    "# Intro"
   ]
  },
  {
   "cell_type": "markdown",
   "id": "5fd677fb",
   "metadata": {
    "hidden": true
   },
   "source": [
    "## Before You Start"
   ]
  },
  {
   "cell_type": "markdown",
   "id": "4416e91f",
   "metadata": {
    "hidden": true
   },
   "source": [
    "### Requirements\n",
    "[Jupyter](https://jupyter.org/install)\n",
    "    \n",
    "### Installing and Running\n",
    "This code may be run in an R environment in Jupyter notebooks or any terminal that runs R. \n",
    "\n",
    "### Website\n",
    "   https://maneuver-id.mit.edu/\n",
    "### About\n",
    "   The U.S. Air Force released a dataset from Pilot Training Next (PTN) through the AI Accelerator of Air Force pilots and trainees flying in virtual reality simulators. In an effort to enable AI coaching and automatic maneuver grading in pilot training, the Air Force seeks to automatically identify and label each maneuver flown in this dataset from a catalog of around 30 maneuvers. Your solution helps advance the state of the art in flying training!\n",
    "### Challenges \n",
    "This notebook addresses the second challenge: identifying maneuvers in unlabeled data based on sample maneuver data. It should be run along with the Preprocessing.Rmd notebook/file."
   ]
  },
  {
   "cell_type": "markdown",
   "id": "17003097",
   "metadata": {
    "hidden": true
   },
   "source": [
    "## Overview"
   ]
  },
  {
   "cell_type": "markdown",
   "id": "89d9d416",
   "metadata": {
    "hidden": true
   },
   "source": [
    "### Contributor Information\n",
    "<p> ManuverID Flight Classification Problem <p>\n",
    "<p> Author: Maj William Caballero, Cadet Matthew LaRosa, Cadet Devin Wasilefsky <p>\n",
    "<p> Date: 06/11/2022 <p>\n",
    "<p> Output: html_document <p>\n",
    "\n",
    "### Summary\n",
    "This code will create summary statistics for each sortie. This will allow the summary statistics to be passed as model parameters. Ideally, this should provide a baseline model for future analysis. \n",
    "<p> A function **augment_summary_stats** was created to create the summary statistics. This function takes two parameters: \n",
    "   <p> > 1) data frame containing the data to analyze, and \n",
    "   <p> > 2) a list of columns in the data frame to summarize over. \n",
    "<p> The function will return the min, Q1, median, mean, Q3, and max for the specified columns."
   ]
  },
  {
   "cell_type": "markdown",
   "id": "be85ff60",
   "metadata": {},
   "source": [
    "# Prepare Data"
   ]
  },
  {
   "cell_type": "markdown",
   "id": "1cc1eb47",
   "metadata": {},
   "source": [
    "The function below summarizes provided data to return relevant statistics such as mean, median, maximum, minimum, and quartile values."
   ]
  },
  {
   "cell_type": "code",
   "execution_count": 4,
   "id": "aa503e0a",
   "metadata": {},
   "outputs": [
    {
     "ename": "ERROR",
     "evalue": "Error in parse(text = x, srcfile = src): <text>:9:0: unexpected end of input\n7:                max=max)) %>%\n8:   return(summaryStats)\n  ^\n",
     "output_type": "error",
     "traceback": [
      "Error in parse(text = x, srcfile = src): <text>:9:0: unexpected end of input\n7:                max=max)) %>%\n8:   return(summaryStats)\n  ^\nTraceback:\n"
     ]
    }
   ],
   "source": [
    "#Returns a df of summary stats\n",
    "augment_summary_stats <- function(df, colList){\n",
    "  summaryStats <- df %>% \n",
    "  group_by(sortieNum,label) %>% \n",
    "  summarize_at(colList, list(min=min, Q1=~quantile(., probs = 0.25, na.rm = TRUE),\n",
    "               median=median, mean = mean, Q3=~quantile(., probs = 0.75, na.rm = TRUE),\n",
    "               max=max))\n",
    "  return(summaryStats)"
   ]
  },
  {
   "cell_type": "markdown",
   "id": "f0b354d8",
   "metadata": {},
   "source": [
    "# Train Data"
   ]
  },
  {
   "cell_type": "markdown",
   "id": "762c1de7",
   "metadata": {},
   "source": [
    "Next, this function was run on the training set, testing set, and the validation set. The data is stored in *training_ss*, *testing_ss* and *validation_ss* respectively."
   ]
  },
  {
   "cell_type": "code",
   "execution_count": 1,
   "id": "c9f2a70f",
   "metadata": {},
   "outputs": [
    {
     "ename": "ERROR",
     "evalue": "Error in augment_summary_stats(training_df, colnames(training_df)[1:10]): could not find function \"augment_summary_stats\"\n",
     "output_type": "error",
     "traceback": [
      "Error in augment_summary_stats(training_df, colnames(training_df)[1:10]): could not find function \"augment_summary_stats\"\nTraceback:\n"
     ]
    }
   ],
   "source": [
    "training_ss <- augment_summary_stats(training_df, colnames(training_df)[1:10])\n",
    "testing_ss <- augment_summary_stats(testing_df, colnames(testing_df)[1:10])\n",
    "validation_ss <- augment_summary_stats(validation_df, colnames(validation_df)[1:10])"
   ]
  }
 ],
 "metadata": {
  "kernelspec": {
   "display_name": "R [conda env:R]",
   "language": "R",
   "name": "conda-env-R-r"
  },
  "language_info": {
   "codemirror_mode": "r",
   "file_extension": ".r",
   "mimetype": "text/x-r-source",
   "name": "R",
   "pygments_lexer": "r",
   "version": "3.6.1"
  },
  "latex_envs": {
   "LaTeX_envs_menu_present": true,
   "autoclose": false,
   "autocomplete": true,
   "bibliofile": "biblio.bib",
   "cite_by": "apalike",
   "current_citInitial": 1,
   "eqLabelWithNumbers": true,
   "eqNumInitial": 1,
   "hotkeys": {
    "equation": "Ctrl-E",
    "itemize": "Ctrl-I"
   },
   "labels_anchors": false,
   "latex_user_defs": false,
   "report_style_numbering": false,
   "user_envs_cfg": false
  },
  "toc": {
   "base_numbering": 1,
   "nav_menu": {},
   "number_sections": true,
   "sideBar": true,
   "skip_h1_title": false,
   "title_cell": "Table of Contents",
   "title_sidebar": "Contents",
   "toc_cell": false,
   "toc_position": {},
   "toc_section_display": true,
   "toc_window_display": false
  }
 },
 "nbformat": 4,
 "nbformat_minor": 5
}
